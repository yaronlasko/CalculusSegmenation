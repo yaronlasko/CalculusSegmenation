{
  "nbformat": 4,
  "nbformat_minor": 0,
  "metadata": {
    "colab": {
      "provenance": [],
      "gpuType": "T4"
    },
    "kernelspec": {
      "name": "python3",
      "display_name": "Python 3"
    },
    "language_info": {
      "name": "python"
    },
    "accelerator": "GPU",
    "widgets": {
      "application/vnd.jupyter.widget-state+json": {
        "45a53bdfb28947d8a95bde4271297884": {
          "model_module": "@jupyter-widgets/controls",
          "model_name": "HBoxModel",
          "model_module_version": "1.5.0",
          "state": {
            "_dom_classes": [],
            "_model_module": "@jupyter-widgets/controls",
            "_model_module_version": "1.5.0",
            "_model_name": "HBoxModel",
            "_view_count": null,
            "_view_module": "@jupyter-widgets/controls",
            "_view_module_version": "1.5.0",
            "_view_name": "HBoxView",
            "box_style": "",
            "children": [
              "IPY_MODEL_66455e5784e14185ba1c3fb382625b62",
              "IPY_MODEL_47077caea78a4fd892c0ff6879b659d4",
              "IPY_MODEL_daa182763a5a4f8abefd99cb309ec8ee"
            ],
            "layout": "IPY_MODEL_f218bb9f872c4ca8b9ea2ab91930423d"
          }
        },
        "66455e5784e14185ba1c3fb382625b62": {
          "model_module": "@jupyter-widgets/controls",
          "model_name": "HTMLModel",
          "model_module_version": "1.5.0",
          "state": {
            "_dom_classes": [],
            "_model_module": "@jupyter-widgets/controls",
            "_model_module_version": "1.5.0",
            "_model_name": "HTMLModel",
            "_view_count": null,
            "_view_module": "@jupyter-widgets/controls",
            "_view_module_version": "1.5.0",
            "_view_name": "HTMLView",
            "description": "",
            "description_tooltip": null,
            "layout": "IPY_MODEL_74d9b906df2741b491ef338a91e0de83",
            "placeholder": "​",
            "style": "IPY_MODEL_8b565573ee29475991596daf3e1a1d71",
            "value": "Evaluating: 100%"
          }
        },
        "47077caea78a4fd892c0ff6879b659d4": {
          "model_module": "@jupyter-widgets/controls",
          "model_name": "FloatProgressModel",
          "model_module_version": "1.5.0",
          "state": {
            "_dom_classes": [],
            "_model_module": "@jupyter-widgets/controls",
            "_model_module_version": "1.5.0",
            "_model_name": "FloatProgressModel",
            "_view_count": null,
            "_view_module": "@jupyter-widgets/controls",
            "_view_module_version": "1.5.0",
            "_view_name": "ProgressView",
            "bar_style": "success",
            "description": "",
            "description_tooltip": null,
            "layout": "IPY_MODEL_34667d1ac3ba4e3c823b86f722ef01d5",
            "max": 87,
            "min": 0,
            "orientation": "horizontal",
            "style": "IPY_MODEL_f34104bb01d9416e9bb47806ca400ca0",
            "value": 87
          }
        },
        "daa182763a5a4f8abefd99cb309ec8ee": {
          "model_module": "@jupyter-widgets/controls",
          "model_name": "HTMLModel",
          "model_module_version": "1.5.0",
          "state": {
            "_dom_classes": [],
            "_model_module": "@jupyter-widgets/controls",
            "_model_module_version": "1.5.0",
            "_model_name": "HTMLModel",
            "_view_count": null,
            "_view_module": "@jupyter-widgets/controls",
            "_view_module_version": "1.5.0",
            "_view_name": "HTMLView",
            "description": "",
            "description_tooltip": null,
            "layout": "IPY_MODEL_cd3c5c9ecdb04440b729c93426f306dc",
            "placeholder": "​",
            "style": "IPY_MODEL_8314335d450749c6ab9793a48a367320",
            "value": " 87/87 [00:02&lt;00:00, 31.11it/s]"
          }
        },
        "f218bb9f872c4ca8b9ea2ab91930423d": {
          "model_module": "@jupyter-widgets/base",
          "model_name": "LayoutModel",
          "model_module_version": "1.2.0",
          "state": {
            "_model_module": "@jupyter-widgets/base",
            "_model_module_version": "1.2.0",
            "_model_name": "LayoutModel",
            "_view_count": null,
            "_view_module": "@jupyter-widgets/base",
            "_view_module_version": "1.2.0",
            "_view_name": "LayoutView",
            "align_content": null,
            "align_items": null,
            "align_self": null,
            "border": null,
            "bottom": null,
            "display": null,
            "flex": null,
            "flex_flow": null,
            "grid_area": null,
            "grid_auto_columns": null,
            "grid_auto_flow": null,
            "grid_auto_rows": null,
            "grid_column": null,
            "grid_gap": null,
            "grid_row": null,
            "grid_template_areas": null,
            "grid_template_columns": null,
            "grid_template_rows": null,
            "height": null,
            "justify_content": null,
            "justify_items": null,
            "left": null,
            "margin": null,
            "max_height": null,
            "max_width": null,
            "min_height": null,
            "min_width": null,
            "object_fit": null,
            "object_position": null,
            "order": null,
            "overflow": null,
            "overflow_x": null,
            "overflow_y": null,
            "padding": null,
            "right": null,
            "top": null,
            "visibility": null,
            "width": null
          }
        },
        "74d9b906df2741b491ef338a91e0de83": {
          "model_module": "@jupyter-widgets/base",
          "model_name": "LayoutModel",
          "model_module_version": "1.2.0",
          "state": {
            "_model_module": "@jupyter-widgets/base",
            "_model_module_version": "1.2.0",
            "_model_name": "LayoutModel",
            "_view_count": null,
            "_view_module": "@jupyter-widgets/base",
            "_view_module_version": "1.2.0",
            "_view_name": "LayoutView",
            "align_content": null,
            "align_items": null,
            "align_self": null,
            "border": null,
            "bottom": null,
            "display": null,
            "flex": null,
            "flex_flow": null,
            "grid_area": null,
            "grid_auto_columns": null,
            "grid_auto_flow": null,
            "grid_auto_rows": null,
            "grid_column": null,
            "grid_gap": null,
            "grid_row": null,
            "grid_template_areas": null,
            "grid_template_columns": null,
            "grid_template_rows": null,
            "height": null,
            "justify_content": null,
            "justify_items": null,
            "left": null,
            "margin": null,
            "max_height": null,
            "max_width": null,
            "min_height": null,
            "min_width": null,
            "object_fit": null,
            "object_position": null,
            "order": null,
            "overflow": null,
            "overflow_x": null,
            "overflow_y": null,
            "padding": null,
            "right": null,
            "top": null,
            "visibility": null,
            "width": null
          }
        },
        "8b565573ee29475991596daf3e1a1d71": {
          "model_module": "@jupyter-widgets/controls",
          "model_name": "DescriptionStyleModel",
          "model_module_version": "1.5.0",
          "state": {
            "_model_module": "@jupyter-widgets/controls",
            "_model_module_version": "1.5.0",
            "_model_name": "DescriptionStyleModel",
            "_view_count": null,
            "_view_module": "@jupyter-widgets/base",
            "_view_module_version": "1.2.0",
            "_view_name": "StyleView",
            "description_width": ""
          }
        },
        "34667d1ac3ba4e3c823b86f722ef01d5": {
          "model_module": "@jupyter-widgets/base",
          "model_name": "LayoutModel",
          "model_module_version": "1.2.0",
          "state": {
            "_model_module": "@jupyter-widgets/base",
            "_model_module_version": "1.2.0",
            "_model_name": "LayoutModel",
            "_view_count": null,
            "_view_module": "@jupyter-widgets/base",
            "_view_module_version": "1.2.0",
            "_view_name": "LayoutView",
            "align_content": null,
            "align_items": null,
            "align_self": null,
            "border": null,
            "bottom": null,
            "display": null,
            "flex": null,
            "flex_flow": null,
            "grid_area": null,
            "grid_auto_columns": null,
            "grid_auto_flow": null,
            "grid_auto_rows": null,
            "grid_column": null,
            "grid_gap": null,
            "grid_row": null,
            "grid_template_areas": null,
            "grid_template_columns": null,
            "grid_template_rows": null,
            "height": null,
            "justify_content": null,
            "justify_items": null,
            "left": null,
            "margin": null,
            "max_height": null,
            "max_width": null,
            "min_height": null,
            "min_width": null,
            "object_fit": null,
            "object_position": null,
            "order": null,
            "overflow": null,
            "overflow_x": null,
            "overflow_y": null,
            "padding": null,
            "right": null,
            "top": null,
            "visibility": null,
            "width": null
          }
        },
        "f34104bb01d9416e9bb47806ca400ca0": {
          "model_module": "@jupyter-widgets/controls",
          "model_name": "ProgressStyleModel",
          "model_module_version": "1.5.0",
          "state": {
            "_model_module": "@jupyter-widgets/controls",
            "_model_module_version": "1.5.0",
            "_model_name": "ProgressStyleModel",
            "_view_count": null,
            "_view_module": "@jupyter-widgets/base",
            "_view_module_version": "1.2.0",
            "_view_name": "StyleView",
            "bar_color": null,
            "description_width": ""
          }
        },
        "cd3c5c9ecdb04440b729c93426f306dc": {
          "model_module": "@jupyter-widgets/base",
          "model_name": "LayoutModel",
          "model_module_version": "1.2.0",
          "state": {
            "_model_module": "@jupyter-widgets/base",
            "_model_module_version": "1.2.0",
            "_model_name": "LayoutModel",
            "_view_count": null,
            "_view_module": "@jupyter-widgets/base",
            "_view_module_version": "1.2.0",
            "_view_name": "LayoutView",
            "align_content": null,
            "align_items": null,
            "align_self": null,
            "border": null,
            "bottom": null,
            "display": null,
            "flex": null,
            "flex_flow": null,
            "grid_area": null,
            "grid_auto_columns": null,
            "grid_auto_flow": null,
            "grid_auto_rows": null,
            "grid_column": null,
            "grid_gap": null,
            "grid_row": null,
            "grid_template_areas": null,
            "grid_template_columns": null,
            "grid_template_rows": null,
            "height": null,
            "justify_content": null,
            "justify_items": null,
            "left": null,
            "margin": null,
            "max_height": null,
            "max_width": null,
            "min_height": null,
            "min_width": null,
            "object_fit": null,
            "object_position": null,
            "order": null,
            "overflow": null,
            "overflow_x": null,
            "overflow_y": null,
            "padding": null,
            "right": null,
            "top": null,
            "visibility": null,
            "width": null
          }
        },
        "8314335d450749c6ab9793a48a367320": {
          "model_module": "@jupyter-widgets/controls",
          "model_name": "DescriptionStyleModel",
          "model_module_version": "1.5.0",
          "state": {
            "_model_module": "@jupyter-widgets/controls",
            "_model_module_version": "1.5.0",
            "_model_name": "DescriptionStyleModel",
            "_view_count": null,
            "_view_module": "@jupyter-widgets/base",
            "_view_module_version": "1.2.0",
            "_view_name": "StyleView",
            "description_width": ""
          }
        }
      }
    }
  },
  "cells": [
    {
      "cell_type": "code",
      "execution_count": 1,
      "metadata": {
        "id": "mBd_xbZSmfcp"
      },
      "outputs": [],
      "source": [
        "!unzip -q /content/drive/MyDrive/CalculusSegmenation.zip -d CalculusSegmenation\n",
        "\n"
      ]
    },
    {
      "cell_type": "code",
      "source": [
        "%cd /content/CalculusSegmenation/CalculusSegmenation"
      ],
      "metadata": {
        "colab": {
          "base_uri": "https://localhost:8080/"
        },
        "id": "HpVh_b4ULDOJ",
        "outputId": "29495ea2-4a73-4b34-f5dd-7ea3cecec43a"
      },
      "execution_count": 2,
      "outputs": [
        {
          "output_type": "stream",
          "name": "stdout",
          "text": [
            "/content/CalculusSegmenation/CalculusSegmenation\n"
          ]
        }
      ]
    },
    {
      "cell_type": "code",
      "source": [
        "# !pip install -U pip\n",
        "# !pip install -U tensorflow==2.18.0 tf-keras segmentation-models --quiet\n",
        "\n",
        "# !pip install segmentation-models-pytorch --quiet\n",
        "# !pip install albumentations --quiet\n",
        "\n",
        "#!pip install -U segmentation-models-pytorch albumentations opencv-python\n",
        "\n",
        "!pip install segmentation-models-pytorch albumentations opencv-python tqdm --quiet\n"
      ],
      "metadata": {
        "id": "qZa_Jyq60nVm"
      },
      "execution_count": 11,
      "outputs": []
    },
    {
      "cell_type": "code",
      "source": [
        "import os\n",
        "import cv2\n",
        "import numpy as np\n",
        "import torch\n",
        "from torch.utils.data import Dataset, DataLoader\n",
        "import segmentation_models_pytorch as smp\n",
        "from sklearn.model_selection import train_test_split\n",
        "from pathlib import Path\n",
        "from tqdm import tqdm  # <--- Added\n",
        "\n",
        "torch.manual_seed(42)\n",
        "np.random.seed(42)\n",
        "\n",
        "# CONFIG\n",
        "IMG_SIZE = (256, 256)\n",
        "BATCH_SIZE = 4\n",
        "EPOCHS = 30\n",
        "best_val_iou = 0\n",
        "DEVICE = torch.device(\"cuda\" if torch.cuda.is_available() else \"cpu\")\n",
        "DATASET_ROOT = Path(\"output/train\")  # change to output/test or output/valid when needed\n",
        "\n",
        "# ==== DATASET ====\n",
        "class ToothDataset(Dataset):\n",
        "    def __init__(self, image_mask_pairs):\n",
        "        self.pairs = image_mask_pairs\n",
        "\n",
        "    def __len__(self):\n",
        "        return len(self.pairs)\n",
        "\n",
        "    def __getitem__(self, idx):\n",
        "        img_path, mask_path = self.pairs[idx]\n",
        "        img = cv2.imread(img_path)\n",
        "        mask = cv2.imread(mask_path, cv2.IMREAD_GRAYSCALE)\n",
        "        img = cv2.resize(img, IMG_SIZE) / 255.0\n",
        "        mask = cv2.resize(mask, IMG_SIZE) / 255.0\n",
        "        img = torch.tensor(img, dtype=torch.float32).permute(2, 0, 1)\n",
        "        mask = torch.tensor(mask, dtype=torch.float32).unsqueeze(0)\n",
        "        return img, mask\n",
        "\n",
        "# ==== LOAD IMAGE-MASK PAIRS ====\n",
        "def get_pairs(dataset_root):\n",
        "    pairs = []\n",
        "    for folder in dataset_root.iterdir():\n",
        "        data_dir = folder / \"data\"\n",
        "        mask_dir = folder / \"calculus_masks\"\n",
        "        if not data_dir.exists() or not mask_dir.exists():\n",
        "            continue\n",
        "        for img_file in data_dir.glob(\"tooth_*.png\"):\n",
        "            num = ''.join(filter(str.isdigit, img_file.stem))\n",
        "            candidates = [\n",
        "                mask_dir / f\"calculus_mask_{int(num)}.png\",\n",
        "                mask_dir / f\"calculus_mask_{int(num):02d}.png\"\n",
        "            ]\n",
        "            for c in candidates:\n",
        "                if c.exists():\n",
        "                    pairs.append((str(img_file), str(c)))\n",
        "                    break\n",
        "    return pairs\n",
        "\n",
        "# ==== METRIC ====\n",
        "def compute_iou(preds, masks, threshold=0.5):\n",
        "    preds = (preds > threshold).float()\n",
        "    intersection = (preds * masks).sum((1, 2, 3))\n",
        "    union = ((preds + masks) >= 1).float().sum((1, 2, 3))\n",
        "    return ((intersection + 1e-6) / (union + 1e-6)).mean().item()\n",
        "\n",
        "# ==== MAIN ====\n",
        "pairs = get_pairs(DATASET_ROOT)\n",
        "train_pairs, val_pairs = train_test_split(pairs, test_size=0.2, random_state=42)\n",
        "\n",
        "train_loader = DataLoader(ToothDataset(train_pairs), batch_size=BATCH_SIZE, shuffle=True)\n",
        "val_loader = DataLoader(ToothDataset(val_pairs), batch_size=BATCH_SIZE)\n",
        "\n",
        "model = smp.Unet(encoder_name=\"resnet50\", in_channels=3, classes=1).to(DEVICE)\n",
        "loss_fn = smp.losses.DiceLoss(mode='binary')\n",
        "optimizer = torch.optim.Adam(model.parameters(), lr=1e-3)\n",
        "\n",
        "for epoch in range(EPOCHS):\n",
        "    model.train()\n",
        "    train_loss = 0\n",
        "    train_loop = tqdm(train_loader, desc=f\"Epoch {epoch+1}/{EPOCHS} [Training]\", ncols=100)\n",
        "    for imgs, masks in train_loop:\n",
        "        imgs, masks = imgs.to(DEVICE), masks.to(DEVICE)\n",
        "        optimizer.zero_grad()\n",
        "        preds = model(imgs)\n",
        "        loss = loss_fn(preds, masks)\n",
        "        loss.backward()\n",
        "        optimizer.step()\n",
        "        train_loss += loss.item()\n",
        "        train_loop.set_postfix(loss=f\"{train_loss:.2f}\")\n",
        "\n",
        "    model.eval()\n",
        "    val_loss, val_iou = 0, 0\n",
        "    val_loop = tqdm(val_loader, desc=f\"Epoch {epoch+1}/{EPOCHS} [Validating]\", ncols=100)\n",
        "    with torch.no_grad():\n",
        "        for imgs, masks in val_loop:\n",
        "            imgs, masks = imgs.to(DEVICE), masks.to(DEVICE)\n",
        "            preds = model(imgs)\n",
        "            val_loss += loss_fn(preds, masks).item()\n",
        "            val_iou += compute_iou(preds, masks)\n",
        "            val_loop.set_postfix(iou=f\"{val_iou / len(val_loader):.4f}\")\n",
        "\n",
        "    avg_val_iou = val_iou / len(val_loader)\n",
        "    if avg_val_iou > best_val_iou:\n",
        "        best_val_iou = avg_val_iou\n",
        "        torch.save(model.state_dict(), \"best_model.pth\")\n",
        "\n",
        "    print(f\"Epoch {epoch+1}/{EPOCHS} - Train Loss: {train_loss:.4f}, Val Loss: {val_loss:.4f}, Val IoU: {avg_val_iou:.4f}\")\n",
        "\n",
        "torch.save(model.state_dict(), \"best_model.pth\")\n"
      ],
      "metadata": {
        "colab": {
          "base_uri": "https://localhost:8080/"
        },
        "id": "L_fYVK85LIdS",
        "outputId": "9643c16e-f360-48e6-e40b-b26c4704678b"
      },
      "execution_count": 26,
      "outputs": [
        {
          "output_type": "stream",
          "name": "stderr",
          "text": [
            "Epoch 1/30 [Training]: 100%|█████████████████████████| 665/665 [01:08<00:00,  9.71it/s, loss=354.98]\n",
            "Epoch 1/30 [Validating]: 100%|████████████████████████| 167/167 [00:05<00:00, 29.14it/s, iou=0.1141]\n"
          ]
        },
        {
          "output_type": "stream",
          "name": "stdout",
          "text": [
            "Epoch 1/30 - Train Loss: 354.9827, Val Loss: 92.0217, Val IoU: 0.1141\n"
          ]
        },
        {
          "output_type": "stream",
          "name": "stderr",
          "text": [
            "Epoch 2/30 [Training]: 100%|█████████████████████████| 665/665 [01:09<00:00,  9.57it/s, loss=330.21]\n",
            "Epoch 2/30 [Validating]: 100%|████████████████████████| 167/167 [00:05<00:00, 29.83it/s, iou=0.4470]\n"
          ]
        },
        {
          "output_type": "stream",
          "name": "stdout",
          "text": [
            "Epoch 2/30 - Train Loss: 330.2125, Val Loss: 87.7509, Val IoU: 0.4470\n"
          ]
        },
        {
          "output_type": "stream",
          "name": "stderr",
          "text": [
            "Epoch 3/30 [Training]: 100%|█████████████████████████| 665/665 [01:09<00:00,  9.58it/s, loss=324.68]\n",
            "Epoch 3/30 [Validating]: 100%|████████████████████████| 167/167 [00:05<00:00, 29.48it/s, iou=0.4596]\n"
          ]
        },
        {
          "output_type": "stream",
          "name": "stdout",
          "text": [
            "Epoch 3/30 - Train Loss: 324.6849, Val Loss: 75.3295, Val IoU: 0.4596\n"
          ]
        },
        {
          "output_type": "stream",
          "name": "stderr",
          "text": [
            "Epoch 4/30 [Training]: 100%|█████████████████████████| 665/665 [01:09<00:00,  9.54it/s, loss=328.75]\n",
            "Epoch 4/30 [Validating]: 100%|████████████████████████| 167/167 [00:05<00:00, 28.55it/s, iou=0.5042]\n"
          ]
        },
        {
          "output_type": "stream",
          "name": "stdout",
          "text": [
            "Epoch 4/30 - Train Loss: 328.7511, Val Loss: 75.4392, Val IoU: 0.5042\n"
          ]
        },
        {
          "output_type": "stream",
          "name": "stderr",
          "text": [
            "Epoch 5/30 [Training]: 100%|█████████████████████████| 665/665 [01:09<00:00,  9.57it/s, loss=324.05]\n",
            "Epoch 5/30 [Validating]: 100%|████████████████████████| 167/167 [00:05<00:00, 28.94it/s, iou=0.4003]\n"
          ]
        },
        {
          "output_type": "stream",
          "name": "stdout",
          "text": [
            "Epoch 5/30 - Train Loss: 324.0550, Val Loss: 73.3975, Val IoU: 0.4003\n"
          ]
        },
        {
          "output_type": "stream",
          "name": "stderr",
          "text": [
            "Epoch 6/30 [Training]: 100%|█████████████████████████| 665/665 [01:09<00:00,  9.55it/s, loss=317.61]\n",
            "Epoch 6/30 [Validating]: 100%|████████████████████████| 167/167 [00:05<00:00, 29.89it/s, iou=0.4509]\n"
          ]
        },
        {
          "output_type": "stream",
          "name": "stdout",
          "text": [
            "Epoch 6/30 - Train Loss: 317.6122, Val Loss: 72.3979, Val IoU: 0.4509\n"
          ]
        },
        {
          "output_type": "stream",
          "name": "stderr",
          "text": [
            "Epoch 7/30 [Training]: 100%|█████████████████████████| 665/665 [01:09<00:00,  9.57it/s, loss=308.70]\n",
            "Epoch 7/30 [Validating]: 100%|████████████████████████| 167/167 [00:05<00:00, 30.01it/s, iou=0.4363]\n"
          ]
        },
        {
          "output_type": "stream",
          "name": "stdout",
          "text": [
            "Epoch 7/30 - Train Loss: 308.6955, Val Loss: 70.8469, Val IoU: 0.4363\n"
          ]
        },
        {
          "output_type": "stream",
          "name": "stderr",
          "text": [
            "Epoch 8/30 [Training]: 100%|█████████████████████████| 665/665 [01:09<00:00,  9.58it/s, loss=300.72]\n",
            "Epoch 8/30 [Validating]: 100%|████████████████████████| 167/167 [00:05<00:00, 28.68it/s, iou=0.4748]\n"
          ]
        },
        {
          "output_type": "stream",
          "name": "stdout",
          "text": [
            "Epoch 8/30 - Train Loss: 300.7203, Val Loss: 73.8045, Val IoU: 0.4748\n"
          ]
        },
        {
          "output_type": "stream",
          "name": "stderr",
          "text": [
            "Epoch 9/30 [Training]: 100%|█████████████████████████| 665/665 [01:09<00:00,  9.59it/s, loss=303.86]\n",
            "Epoch 9/30 [Validating]: 100%|████████████████████████| 167/167 [00:05<00:00, 28.69it/s, iou=0.3206]\n"
          ]
        },
        {
          "output_type": "stream",
          "name": "stdout",
          "text": [
            "Epoch 9/30 - Train Loss: 303.8564, Val Loss: 75.0069, Val IoU: 0.3206\n"
          ]
        },
        {
          "output_type": "stream",
          "name": "stderr",
          "text": [
            "Epoch 10/30 [Training]: 100%|████████████████████████| 665/665 [01:09<00:00,  9.60it/s, loss=301.71]\n",
            "Epoch 10/30 [Validating]: 100%|███████████████████████| 167/167 [00:05<00:00, 30.12it/s, iou=0.6592]\n"
          ]
        },
        {
          "output_type": "stream",
          "name": "stdout",
          "text": [
            "Epoch 10/30 - Train Loss: 301.7104, Val Loss: 85.0217, Val IoU: 0.6592\n"
          ]
        },
        {
          "output_type": "stream",
          "name": "stderr",
          "text": [
            "Epoch 11/30 [Training]: 100%|████████████████████████| 665/665 [01:09<00:00,  9.57it/s, loss=301.39]\n",
            "Epoch 11/30 [Validating]: 100%|███████████████████████| 167/167 [00:05<00:00, 29.87it/s, iou=0.2664]\n"
          ]
        },
        {
          "output_type": "stream",
          "name": "stdout",
          "text": [
            "Epoch 11/30 - Train Loss: 301.3882, Val Loss: 84.4478, Val IoU: 0.2664\n"
          ]
        },
        {
          "output_type": "stream",
          "name": "stderr",
          "text": [
            "Epoch 12/30 [Training]: 100%|████████████████████████| 665/665 [01:09<00:00,  9.58it/s, loss=292.80]\n",
            "Epoch 12/30 [Validating]: 100%|███████████████████████| 167/167 [00:05<00:00, 28.94it/s, iou=0.4265]\n"
          ]
        },
        {
          "output_type": "stream",
          "name": "stdout",
          "text": [
            "Epoch 12/30 - Train Loss: 292.7977, Val Loss: 69.4256, Val IoU: 0.4265\n"
          ]
        },
        {
          "output_type": "stream",
          "name": "stderr",
          "text": [
            "Epoch 13/30 [Training]: 100%|████████████████████████| 665/665 [01:09<00:00,  9.57it/s, loss=300.05]\n",
            "Epoch 13/30 [Validating]: 100%|███████████████████████| 167/167 [00:05<00:00, 28.42it/s, iou=0.2936]\n"
          ]
        },
        {
          "output_type": "stream",
          "name": "stdout",
          "text": [
            "Epoch 13/30 - Train Loss: 300.0535, Val Loss: 76.7266, Val IoU: 0.2936\n"
          ]
        },
        {
          "output_type": "stream",
          "name": "stderr",
          "text": [
            "Epoch 14/30 [Training]: 100%|████████████████████████| 665/665 [01:09<00:00,  9.60it/s, loss=289.37]\n",
            "Epoch 14/30 [Validating]: 100%|███████████████████████| 167/167 [00:05<00:00, 29.63it/s, iou=0.5573]\n"
          ]
        },
        {
          "output_type": "stream",
          "name": "stdout",
          "text": [
            "Epoch 14/30 - Train Loss: 289.3699, Val Loss: 67.0930, Val IoU: 0.5573\n"
          ]
        },
        {
          "output_type": "stream",
          "name": "stderr",
          "text": [
            "Epoch 15/30 [Training]: 100%|████████████████████████| 665/665 [01:09<00:00,  9.59it/s, loss=299.54]\n",
            "Epoch 15/30 [Validating]: 100%|███████████████████████| 167/167 [00:05<00:00, 29.99it/s, iou=0.5461]\n"
          ]
        },
        {
          "output_type": "stream",
          "name": "stdout",
          "text": [
            "Epoch 15/30 - Train Loss: 299.5409, Val Loss: 67.6109, Val IoU: 0.5461\n"
          ]
        },
        {
          "output_type": "stream",
          "name": "stderr",
          "text": [
            "Epoch 16/30 [Training]: 100%|████████████████████████| 665/665 [01:09<00:00,  9.58it/s, loss=284.78]\n",
            "Epoch 16/30 [Validating]: 100%|███████████████████████| 167/167 [00:05<00:00, 29.29it/s, iou=0.4859]\n"
          ]
        },
        {
          "output_type": "stream",
          "name": "stdout",
          "text": [
            "Epoch 16/30 - Train Loss: 284.7775, Val Loss: 72.3120, Val IoU: 0.4859\n"
          ]
        },
        {
          "output_type": "stream",
          "name": "stderr",
          "text": [
            "Epoch 17/30 [Training]: 100%|████████████████████████| 665/665 [01:09<00:00,  9.57it/s, loss=288.17]\n",
            "Epoch 17/30 [Validating]: 100%|███████████████████████| 167/167 [00:05<00:00, 28.62it/s, iou=0.5811]\n"
          ]
        },
        {
          "output_type": "stream",
          "name": "stdout",
          "text": [
            "Epoch 17/30 - Train Loss: 288.1721, Val Loss: 84.1989, Val IoU: 0.5811\n"
          ]
        },
        {
          "output_type": "stream",
          "name": "stderr",
          "text": [
            "Epoch 18/30 [Training]: 100%|████████████████████████| 665/665 [01:09<00:00,  9.58it/s, loss=279.81]\n",
            "Epoch 18/30 [Validating]: 100%|███████████████████████| 167/167 [00:05<00:00, 29.19it/s, iou=0.5875]\n"
          ]
        },
        {
          "output_type": "stream",
          "name": "stdout",
          "text": [
            "Epoch 18/30 - Train Loss: 279.8089, Val Loss: 76.6249, Val IoU: 0.5875\n"
          ]
        },
        {
          "output_type": "stream",
          "name": "stderr",
          "text": [
            "Epoch 19/30 [Training]: 100%|████████████████████████| 665/665 [01:09<00:00,  9.57it/s, loss=283.78]\n",
            "Epoch 19/30 [Validating]: 100%|███████████████████████| 167/167 [00:05<00:00, 30.00it/s, iou=0.5890]\n"
          ]
        },
        {
          "output_type": "stream",
          "name": "stdout",
          "text": [
            "Epoch 19/30 - Train Loss: 283.7827, Val Loss: 70.3331, Val IoU: 0.5890\n"
          ]
        },
        {
          "output_type": "stream",
          "name": "stderr",
          "text": [
            "Epoch 20/30 [Training]: 100%|████████████████████████| 665/665 [01:09<00:00,  9.58it/s, loss=288.04]\n",
            "Epoch 20/30 [Validating]: 100%|███████████████████████| 167/167 [00:05<00:00, 29.62it/s, iou=0.6032]\n"
          ]
        },
        {
          "output_type": "stream",
          "name": "stdout",
          "text": [
            "Epoch 20/30 - Train Loss: 288.0420, Val Loss: 69.3618, Val IoU: 0.6032\n"
          ]
        },
        {
          "output_type": "stream",
          "name": "stderr",
          "text": [
            "Epoch 21/30 [Training]: 100%|████████████████████████| 665/665 [01:09<00:00,  9.58it/s, loss=277.17]\n",
            "Epoch 21/30 [Validating]: 100%|███████████████████████| 167/167 [00:05<00:00, 28.47it/s, iou=0.5839]\n"
          ]
        },
        {
          "output_type": "stream",
          "name": "stdout",
          "text": [
            "Epoch 21/30 - Train Loss: 277.1723, Val Loss: 68.7872, Val IoU: 0.5839\n"
          ]
        },
        {
          "output_type": "stream",
          "name": "stderr",
          "text": [
            "Epoch 22/30 [Training]: 100%|████████████████████████| 665/665 [01:09<00:00,  9.58it/s, loss=275.91]\n",
            "Epoch 22/30 [Validating]: 100%|███████████████████████| 167/167 [00:05<00:00, 28.83it/s, iou=0.5268]\n"
          ]
        },
        {
          "output_type": "stream",
          "name": "stdout",
          "text": [
            "Epoch 22/30 - Train Loss: 275.9062, Val Loss: 67.0579, Val IoU: 0.5268\n"
          ]
        },
        {
          "output_type": "stream",
          "name": "stderr",
          "text": [
            "Epoch 23/30 [Training]: 100%|████████████████████████| 665/665 [01:09<00:00,  9.55it/s, loss=270.33]\n",
            "Epoch 23/30 [Validating]: 100%|███████████████████████| 167/167 [00:05<00:00, 29.73it/s, iou=0.5658]\n"
          ]
        },
        {
          "output_type": "stream",
          "name": "stdout",
          "text": [
            "Epoch 23/30 - Train Loss: 270.3338, Val Loss: 79.2317, Val IoU: 0.5658\n"
          ]
        },
        {
          "output_type": "stream",
          "name": "stderr",
          "text": [
            "Epoch 24/30 [Training]: 100%|████████████████████████| 665/665 [01:09<00:00,  9.57it/s, loss=273.61]\n",
            "Epoch 24/30 [Validating]: 100%|███████████████████████| 167/167 [00:05<00:00, 29.76it/s, iou=0.6406]\n"
          ]
        },
        {
          "output_type": "stream",
          "name": "stdout",
          "text": [
            "Epoch 24/30 - Train Loss: 273.6103, Val Loss: 64.2798, Val IoU: 0.6406\n"
          ]
        },
        {
          "output_type": "stream",
          "name": "stderr",
          "text": [
            "Epoch 25/30 [Training]: 100%|████████████████████████| 665/665 [01:09<00:00,  9.57it/s, loss=268.77]\n",
            "Epoch 25/30 [Validating]: 100%|███████████████████████| 167/167 [00:05<00:00, 29.03it/s, iou=0.5877]\n"
          ]
        },
        {
          "output_type": "stream",
          "name": "stdout",
          "text": [
            "Epoch 25/30 - Train Loss: 268.7707, Val Loss: 63.8934, Val IoU: 0.5877\n"
          ]
        },
        {
          "output_type": "stream",
          "name": "stderr",
          "text": [
            "Epoch 26/30 [Training]: 100%|████████████████████████| 665/665 [01:09<00:00,  9.57it/s, loss=275.17]\n",
            "Epoch 26/30 [Validating]: 100%|███████████████████████| 167/167 [00:05<00:00, 28.81it/s, iou=0.5804]\n"
          ]
        },
        {
          "output_type": "stream",
          "name": "stdout",
          "text": [
            "Epoch 26/30 - Train Loss: 275.1743, Val Loss: 65.4247, Val IoU: 0.5804\n"
          ]
        },
        {
          "output_type": "stream",
          "name": "stderr",
          "text": [
            "Epoch 27/30 [Training]: 100%|████████████████████████| 665/665 [01:09<00:00,  9.58it/s, loss=266.29]\n",
            "Epoch 27/30 [Validating]: 100%|███████████████████████| 167/167 [00:05<00:00, 29.50it/s, iou=0.6077]\n"
          ]
        },
        {
          "output_type": "stream",
          "name": "stdout",
          "text": [
            "Epoch 27/30 - Train Loss: 266.2926, Val Loss: 64.7449, Val IoU: 0.6077\n"
          ]
        },
        {
          "output_type": "stream",
          "name": "stderr",
          "text": [
            "Epoch 28/30 [Training]: 100%|████████████████████████| 665/665 [01:09<00:00,  9.56it/s, loss=264.51]\n",
            "Epoch 28/30 [Validating]: 100%|███████████████████████| 167/167 [00:05<00:00, 29.91it/s, iou=0.5716]\n"
          ]
        },
        {
          "output_type": "stream",
          "name": "stdout",
          "text": [
            "Epoch 28/30 - Train Loss: 264.5066, Val Loss: 65.3185, Val IoU: 0.5716\n"
          ]
        },
        {
          "output_type": "stream",
          "name": "stderr",
          "text": [
            "Epoch 29/30 [Training]: 100%|████████████████████████| 665/665 [01:09<00:00,  9.54it/s, loss=264.88]\n",
            "Epoch 29/30 [Validating]: 100%|███████████████████████| 167/167 [00:05<00:00, 29.01it/s, iou=0.4165]\n"
          ]
        },
        {
          "output_type": "stream",
          "name": "stdout",
          "text": [
            "Epoch 29/30 - Train Loss: 264.8786, Val Loss: 65.8178, Val IoU: 0.4165\n"
          ]
        },
        {
          "output_type": "stream",
          "name": "stderr",
          "text": [
            "Epoch 30/30 [Training]: 100%|████████████████████████| 665/665 [01:09<00:00,  9.58it/s, loss=261.48]\n",
            "Epoch 30/30 [Validating]: 100%|███████████████████████| 167/167 [00:05<00:00, 28.76it/s, iou=0.6826]\n"
          ]
        },
        {
          "output_type": "stream",
          "name": "stdout",
          "text": [
            "Epoch 30/30 - Train Loss: 261.4825, Val Loss: 63.7054, Val IoU: 0.6826\n"
          ]
        }
      ]
    },
    {
      "cell_type": "code",
      "source": [
        "import os\n",
        "import cv2\n",
        "import numpy as np\n",
        "import torch\n",
        "from torch.utils.data import Dataset, DataLoader\n",
        "from pathlib import Path\n",
        "from tqdm.notebook import tqdm\n",
        "import segmentation_models_pytorch as smp\n",
        "\n",
        "# CONFIG\n",
        "IMG_SIZE = (256, 256)\n",
        "BATCH_SIZE = 4\n",
        "DEVICE = torch.device(\"cuda\" if torch.cuda.is_available() else \"cpu\")\n",
        "TEST_ROOT = Path(\"output/test\")\n",
        "\n",
        "# Dataset\n",
        "class ToothDataset(torch.utils.data.Dataset):\n",
        "    def __init__(self, image_mask_pairs):\n",
        "        self.pairs = image_mask_pairs\n",
        "\n",
        "    def __len__(self):\n",
        "        return len(self.pairs)\n",
        "\n",
        "    def __getitem__(self, idx):\n",
        "        img_path, mask_path = self.pairs[idx]\n",
        "        img = cv2.imread(img_path)\n",
        "        mask = cv2.imread(mask_path, cv2.IMREAD_GRAYSCALE)\n",
        "        img = cv2.resize(img, IMG_SIZE) / 255.0\n",
        "        mask = cv2.resize(mask, IMG_SIZE) / 255.0\n",
        "        img = torch.tensor(img, dtype=torch.float32).permute(2, 0, 1)\n",
        "        mask = torch.tensor(mask, dtype=torch.float32).unsqueeze(0)\n",
        "        return img, mask\n",
        "\n",
        "# Load image-mask pairs from nested folders\n",
        "def get_pairs(dataset_root):\n",
        "    pairs = []\n",
        "    for folder in dataset_root.iterdir():\n",
        "        data_dir = folder / \"data\"\n",
        "        mask_dir = folder / \"calculus_masks\"\n",
        "        if not data_dir.exists() or not mask_dir.exists():\n",
        "            continue\n",
        "        for img_file in data_dir.glob(\"tooth_*.png\"):\n",
        "            num = ''.join(filter(str.isdigit, img_file.stem))\n",
        "            for mask_name in [f\"calculus_mask_{int(num)}.png\", f\"calculus_mask_{int(num):02d}.png\"]:\n",
        "                mask_path = mask_dir / mask_name\n",
        "                if mask_path.exists():\n",
        "                    pairs.append((str(img_file), str(mask_path)))\n",
        "                    break\n",
        "    return pairs\n",
        "\n",
        "# IoU metric\n",
        "def compute_iou(preds, masks, threshold=0.5):\n",
        "    preds = (preds > threshold).float()\n",
        "    intersection = (preds * masks).sum((1, 2, 3))\n",
        "    union = ((preds + masks) >= 1).float().sum((1, 2, 3))\n",
        "    return ((intersection + 1e-6) / (union + 1e-6)).mean().item()\n",
        "\n",
        "# Load test data\n",
        "test_pairs = get_pairs(TEST_ROOT)\n",
        "test_loader = DataLoader(ToothDataset(test_pairs), batch_size=BATCH_SIZE)\n",
        "\n",
        "# Load model\n",
        "model = smp.Unet(encoder_name=\"resnet50\", in_channels=3, classes=1)\n",
        "model.load_state_dict(torch.load(\"best_model.pth\", map_location=DEVICE))\n",
        "model.to(DEVICE)\n",
        "model.eval()\n",
        "\n",
        "# Evaluate\n",
        "iou_total = 0\n",
        "with torch.no_grad():\n",
        "    for imgs, masks in tqdm(test_loader, desc=\"Evaluating\"):\n",
        "        imgs, masks = imgs.to(DEVICE), masks.to(DEVICE)\n",
        "        preds = model(imgs)\n",
        "        iou_total += compute_iou(preds, masks)\n",
        "\n",
        "avg_iou = iou_total / len(test_loader)\n",
        "print(f\"Mean IoU on test set: {avg_iou:.4f}\")\n"
      ],
      "metadata": {
        "id": "-z-t5II7Lcsg",
        "colab": {
          "base_uri": "https://localhost:8080/",
          "height": 66,
          "referenced_widgets": [
            "45a53bdfb28947d8a95bde4271297884",
            "66455e5784e14185ba1c3fb382625b62",
            "47077caea78a4fd892c0ff6879b659d4",
            "daa182763a5a4f8abefd99cb309ec8ee",
            "f218bb9f872c4ca8b9ea2ab91930423d",
            "74d9b906df2741b491ef338a91e0de83",
            "8b565573ee29475991596daf3e1a1d71",
            "34667d1ac3ba4e3c823b86f722ef01d5",
            "f34104bb01d9416e9bb47806ca400ca0",
            "cd3c5c9ecdb04440b729c93426f306dc",
            "8314335d450749c6ab9793a48a367320"
          ]
        },
        "outputId": "3965037f-c124-4ef3-ba0a-3e8ef0cd6340"
      },
      "execution_count": 27,
      "outputs": [
        {
          "output_type": "display_data",
          "data": {
            "text/plain": [
              "Evaluating:   0%|          | 0/87 [00:00<?, ?it/s]"
            ],
            "application/vnd.jupyter.widget-view+json": {
              "version_major": 2,
              "version_minor": 0,
              "model_id": "45a53bdfb28947d8a95bde4271297884"
            }
          },
          "metadata": {}
        },
        {
          "output_type": "stream",
          "name": "stdout",
          "text": [
            "Mean IoU on test set: 0.6147\n"
          ]
        }
      ]
    },
    {
      "cell_type": "code",
      "source": [],
      "metadata": {
        "id": "jIedQzafGB9Z"
      },
      "execution_count": null,
      "outputs": []
    }
  ]
}